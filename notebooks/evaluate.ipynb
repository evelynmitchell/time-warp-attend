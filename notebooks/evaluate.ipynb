{
 "cells": [
  {
   "cell_type": "code",
   "execution_count": null,
   "metadata": {},
   "outputs": [],
   "source": [
    "import os\n",
    "import glob\n",
    "import numpy as np\n",
    "import matplotlib.pyplot as plt\n",
    "import pandas as pd\n",
    "import torch\n",
    "import torch.optim as optim\n",
    "from twa.utils import ensure_dir, write_yaml, read_yaml, glob_re\n",
    "from twa.data import FlowSystemODE, topo_point_vs_cycle\n",
    "from twa.evaluate import Evaluator\n",
    "from sklearn.decomposition import PCA\n",
    "import random\n",
    "random.seed(0)\n",
    "torch.manual_seed(0)"
   ]
  },
  {
   "attachments": {},
   "cell_type": "markdown",
   "metadata": {},
   "source": [
    "# Results"
   ]
  },
  {
   "cell_type": "code",
   "execution_count": null,
   "metadata": {},
   "outputs": [],
   "source": [
    "outdir='../output/'\n",
    "\n",
    "# read all repeated runs of these experiments\n",
    "exp_descs = {} \n",
    "exp_descs['simple_oscillator_nsfcl_angle_atten_AttentionwFC'] = 'Our Model'\n",
    "exp_descs['p2v_linear'] = 'Phase2Vec Latent Representation'\n",
    "exp_descs['vfpoly_linear'] = 'Vector Field Learned Representation'\n",
    "exp_descs['params_linear'] = 'Fitted Parameter Coefficients'\n",
    "\n",
    "sys_descs = {}\n",
    "sys_descs['simple_oscillator_noaug'] = 'SO'\n",
    "sys_descs['simple_oscillator_nsfcl'] = 'Augmented SO'\n",
    "sys_descs['suphopf'] = 'Supercritical Hopf'\n",
    "sys_descs['lienard_poly'] = 'Lienard Poly'\n",
    "sys_descs['lienard_sigmoid'] = 'Lienard Sigmoid'\n",
    "sys_descs['vanderpol'] = 'Van der Pol'\n",
    "sys_descs['bzreaction'] = 'BZ Reaction'\n",
    "sys_descs['selkov2'] = 'Sel\\'kov'\n",
    "\n",
    "selected_syss = list(sys_descs.keys()) # classical synthetic systems\n",
    "print(selected_syss)\n",
    "\n",
    "sys_descs['repressilator'] = 'Repressilator'\n",
    "sys_descs['pancreas_clusters_random_bin'] = 'Pancreas'\n",
    "\n",
    "\n",
    "ode_syss = {k: k for k in sys_descs.keys()}\n",
    "ode_syss['simple_oscillator_noaug'] = 'simple_oscillator'\n",
    "ode_syss['simple_oscillator_nsfcl'] = 'simple_oscillator'\n",
    "ode_syss['pancreas_clusters_random_bin'] = None\n",
    "ode_syss['selkov2'] = 'selkov'\n",
    "\n",
    "\n",
    "EV = Evaluator(exp_descs=exp_descs, sys_descs=sys_descs, ode_syss=ode_syss, verbose=True, outdir=outdir)\n",
    "\n",
    "exp = 'simple_oscillator_nsfcl_angle_atten_AttentionwFC'"
   ]
  },
  {
   "cell_type": "code",
   "execution_count": null,
   "metadata": {},
   "outputs": [],
   "source": [
    "# average accuracies across repeats\n",
    "res = EV.get_stats(syss=selected_syss, stats=['Accu'])\n",
    "print(res)\n",
    "EV.print_stat(syss=selected_syss) # for latex table"
   ]
  },
  {
   "cell_type": "code",
   "execution_count": null,
   "metadata": {},
   "outputs": [],
   "source": [
    "# accuracy, sensitivity and specificity across repeats\n",
    "res = EV.get_stats(syss=selected_syss, stats=['Accu', 'Sens', 'Spec'])\n",
    "print(res)"
   ]
  },
  {
   "cell_type": "code",
   "execution_count": null,
   "metadata": {},
   "outputs": [],
   "source": [
    "# print noise evaluation\n",
    "df = EV.gather_stats_noised(exp=exp, desc='noise')\n",
    "df = EV.gather_stats_noised(exp=exp, desc='masked')"
   ]
  },
  {
   "cell_type": "code",
   "execution_count": null,
   "metadata": {},
   "outputs": [],
   "source": [
    "# plotting confidence and resulting bifurcation curves\n",
    "# sselected_syss = [s for s in selected_syss if s != 'vanderpol'] # exclude vanderpol because of single parameter\n",
    "ref_sys = 'simple_oscillator_nsfcl'\n",
    "\n",
    "EV.plot_bifurcation(exp, syss=selected_syss, verbose=True)"
   ]
  },
  {
   "cell_type": "code",
   "execution_count": null,
   "metadata": {},
   "outputs": [],
   "source": [
    "# plotting confidence and resulting bifurcation curves\n",
    "\n",
    "EV.plot_bifurcation(exp, syss=['repressilator'])"
   ]
  },
  {
   "cell_type": "code",
   "execution_count": null,
   "metadata": {},
   "outputs": [],
   "source": [
    "# plot pancreas predicted cycle scores\n",
    "EV.plot_pancreas(exp)"
   ]
  },
  {
   "cell_type": "code",
   "execution_count": null,
   "metadata": {},
   "outputs": [],
   "source": [
    "exp_descs2 = {}\n",
    "exp_descs2['simple_oscillator_nsfcl_angle_atten_AttentionwFC'] = 'Our Model'\n",
    "exp_descs2['simple_oscillator_nsfcl_angle_noatten_AttentionwFC'] = 'No Attention'\n",
    "exp_descs2['simple_oscillator_nsfcl_vector_atten_AttentionwFC'] = 'From Vectors'\n",
    "exp_descs2['simple_oscillator_noaug_angle_atten_AttentionwFC'] = 'No Augmentation'\n",
    "\n",
    "exp_descs2['simple_oscillator_noaug_vector_noatten_AttentionwFC'] = 'CNN-baseline'\n",
    "\n",
    "\n",
    "EV2 = Evaluator(exp_descs=exp_descs2, sys_descs=sys_descs, ode_syss=ode_syss, outdir=outdir)\n"
   ]
  },
  {
   "cell_type": "code",
   "execution_count": null,
   "metadata": {},
   "outputs": [],
   "source": [
    "res = EV2.get_stats(syss=selected_syss, stats=['Accu'])\n",
    "print(res)\n",
    "EV2.print_stat(syss=selected_syss) # for latex table"
   ]
  },
  {
   "cell_type": "code",
   "execution_count": null,
   "metadata": {},
   "outputs": [],
   "source": [
    "# EV2.plot_output_distribution()"
   ]
  }
 ],
 "metadata": {
  "kernelspec": {
   "display_name": "p2vd",
   "language": "python",
   "name": "python3"
  },
  "language_info": {
   "codemirror_mode": {
    "name": "ipython",
    "version": 3
   },
   "file_extension": ".py",
   "mimetype": "text/x-python",
   "name": "python",
   "nbconvert_exporter": "python",
   "pygments_lexer": "ipython3",
   "version": "3.10.8"
  },
  "orig_nbformat": 4
 },
 "nbformat": 4,
 "nbformat_minor": 2
}
