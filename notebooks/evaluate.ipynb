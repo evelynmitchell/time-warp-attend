{
 "cells": [
  {
   "cell_type": "code",
   "execution_count": null,
   "metadata": {},
   "outputs": [],
   "source": [
    "import os\n",
    "import glob\n",
    "import numpy as np\n",
    "import matplotlib.pyplot as plt\n",
    "import pandas as pd\n",
    "import torch\n",
    "import torch.optim as optim\n",
    "from twa.utils import ensure_dir, write_yaml, read_yaml, glob_re\n",
    "from twa.data import FlowSystemODE, topo_point_vs_cycle\n",
    "from twa.evaluate import Evaluator\n",
    "from sklearn.decomposition import PCA\n",
    "import random\n",
    "random.seed(0)\n",
    "torch.manual_seed(0)"
   ]
  },
  {
   "cell_type": "code",
   "execution_count": null,
   "metadata": {},
   "outputs": [],
   "source": [
    "# from sklearn.metrics import mutual_info_score\n",
    "# from sklearn.feature_selection import mutual_info_regression\n",
    "\n",
    "# x = np.arange(0, 1, 0.1).reshape((-1, 1))\n",
    "# y = np.random.permutation(x)\n",
    "# # print(x)\n",
    "# # print(y)\n",
    "# # print(mutual_info_score(x, y))\n",
    "# print(mutual_info_regression(x, y)[0])"
   ]
  },
  {
   "attachments": {},
   "cell_type": "markdown",
   "metadata": {},
   "source": [
    "# Results"
   ]
  },
  {
   "cell_type": "code",
   "execution_count": null,
   "metadata": {},
   "outputs": [],
   "source": [
    "outdir='../output/'\n",
    "\n",
    "# read all repeated runs of these experiments\n",
    "exp_descs = {} \n",
    "exp_descs['simple_oscillator_nsfcl_angle_atten_AttentionwFC'] = 'Our Model'\n",
    "\n",
    "# exp_descs['dropout5'] = 'dropout = 0.5'\n",
    "# exp_descs['kernel5'] = 'kernel size = 5'\n",
    "# exp_descs['latent5'] = 'latent dimension = 5'\n",
    "# exp_descs['latent20'] = 'latent dimension = 20'\n",
    "# exp_descs['channels32'] = 'conv channels = 32'\n",
    "# exp_descs['conv3'] = 'conv layers = 3'\n",
    "exp_descs['p2v_linear'] = 'Phase2Vec Latent Representation'\n",
    "exp_descs['vfpoly_linear'] = 'Vector Field Learned Representation'\n",
    "exp_descs['params_linear'] = 'Fitted Parameter Coefficients'\n",
    "\n",
    "# exp_descs['simple_oscillator_nsfcl_angle_atten_AttentionwFC_lr3'] = 'Our Model lr3'\n",
    "# exp_descs['p2v_linear_lr3'] = 'Phase2Vec Latent Representation lr3'\n",
    "# exp_descs['vfpoly_linear_lr3'] = 'Vector Field Learned Representation lr3'\n",
    "# exp_descs['params_linear_lr3'] = 'Fitted Parameter Coefficients lr3'\n",
    "\n",
    "# exp_descs['simple_oscillator_nsfcl_angle_atten_AttentionwFC_lr5'] = 'Our Model lr5'\n",
    "# exp_descs['p2v_linear_lr5'] = 'Phase2Vec Latent Representation lr5'\n",
    "# exp_descs['vfpoly_linear_lr5'] = 'Vector Field Learned Representation lr5'\n",
    "# exp_descs['params_linear_lr5'] = 'Fitted Parameter Coefficients lr5'\n",
    "\n",
    "# exp_descs['simple_oscillator_nsfcl_angle_atten_AttentionwFC_ne10'] = 'Our Model ne10'\n",
    "# exp_descs['p2v_linear_ne10'] = 'Phase2Vec Latent Representation ne10'\n",
    "# exp_descs['vfpoly_linear_ne10'] = 'Vector Field Learned Representation ne10'\n",
    "# exp_descs['params_linear_ne10'] = 'Fitted Parameter Coefficients ne10'\n",
    "\n",
    "# exp_descs['simple_oscillator_nsfcl_angle_atten_AttentionwFC_ne40'] = 'Our Model ne40'\n",
    "# exp_descs['p2v_linear_ne40'] = 'Phase2Vec Latent Representation ne40'\n",
    "# exp_descs['vfpoly_linear_ne40'] = 'Vector Field Learned Representation ne40'\n",
    "# exp_descs['params_linear_ne40'] = 'Fitted Parameter Coefficients ne40'\n",
    "\n",
    "\n",
    "\n",
    "\n",
    "sys_descs = {}\n",
    "sys_descs['simple_oscillator_noaug'] = 'SO'\n",
    "sys_descs['simple_oscillator_nsfcl'] = 'Augmented SO'\n",
    "sys_descs['suphopf'] = 'Supercritical Hopf'\n",
    "# sys_descs['subhopf'] = 'Subcritical Hopf'\n",
    "sys_descs['lienard_poly'] = 'Lienard Poly'\n",
    "sys_descs['lienard_sigmoid'] = 'Lienard Sigmoid'\n",
    "sys_descs['vanderpol'] = 'Van der Pol'\n",
    "sys_descs['bzreaction'] = 'BZ Reaction'\n",
    "sys_descs['selkov2'] = 'Sel\\'kov'\n",
    "\n",
    "selected_syss = list(sys_descs.keys()) # classical synthetic systems\n",
    "print(selected_syss)\n",
    "\n",
    "sys_descs['repressilator'] = 'Repressilator'\n",
    "sys_descs['pancreas_clusters_random_bin'] = 'Pancreas'\n",
    "\n",
    "\n",
    "ode_syss = {k: k for k in sys_descs.keys()}\n",
    "ode_syss['simple_oscillator_noaug'] = 'simple_oscillator'\n",
    "ode_syss['simple_oscillator_nsfcl'] = 'simple_oscillator'\n",
    "ode_syss['pancreas_clusters_random_bin'] = None\n",
    "ode_syss['selkov2'] = 'selkov'\n",
    "\n",
    "\n",
    "# # NOISED\n",
    "# sys_descs = {}\n",
    "# sys_descs['simple_oscillator_noaug_noise0.1'] = 'SO'\n",
    "# sys_descs['simple_oscillator_nsfcl_noise0.1'] = 'Augmented SO'\n",
    "# sys_descs['suphopf_noise0.1'] = 'Supercritical Hopf'\n",
    "# # sys_descs['subhopf_noise0.1'] = 'Subcritical Hopf'\n",
    "# sys_descs['lienard_poly_noise0.1'] = 'Lienard Poly'\n",
    "# sys_descs['lienard_sigmoid_noise0.1'] = 'Lienard Sigmoid'\n",
    "# sys_descs['vanderpol_noise0.1'] = 'Van der Pol'\n",
    "# sys_descs['bzreaction_noise0.1'] = 'BZ Reaction'\n",
    "# sys_descs['selkov2_noise0.1'] = 'Sel\\'kov'\n",
    "\n",
    "# selected_syss = list(sys_descs.keys()) # classical synthetic systems\n",
    "# print(selected_syss)\n",
    "\n",
    "# sys_descs['repressilator'] = 'Repressilator'\n",
    "# sys_descs['pancreas_clusters_random_bin'] = 'Pancreas'\n",
    "\n",
    "\n",
    "# ode_syss = {k: k for k in sys_descs.keys()}\n",
    "# ode_syss['pancreas_clusters_random_bin'] = None\n",
    "# ode_syss['simple_oscillator_noaug_noise0.1'] = 'simple_oscillator'\n",
    "# ode_syss['simple_oscillator_nsfcl_noise0.1'] = 'simple_oscillator'\n",
    "# ode_syss['suphopf_noise0.1'] = 'suphopf'\n",
    "\n",
    "# ode_syss['lienard_poly_noise0.1'] = 'lienard_poly'\n",
    "# ode_syss['lienard_sigmoid_noise0.1'] = 'lienard_sigmoid'\n",
    "# ode_syss['vanderpol_noise0.1'] = 'vanderpol'\n",
    "# ode_syss['bzreaction_noise0.1'] = 'bzreaction'\n",
    "# ode_syss['selkov2_noise0.1'] = 'selkov'\n",
    "\n",
    "\n",
    "\n",
    "\n",
    "\n",
    "EV = Evaluator(exp_descs=exp_descs, sys_descs=sys_descs, ode_syss=ode_syss, verbose=True, outdir=outdir)\n",
    "\n",
    "exp = 'simple_oscillator_nsfcl_angle_atten_AttentionwFC'"
   ]
  },
  {
   "cell_type": "code",
   "execution_count": null,
   "metadata": {},
   "outputs": [],
   "source": [
    "# average accuracies across repeats\n",
    "res = EV.get_stats(syss=['pancreas_clusters_random_bin'], stats=['Accu'])\n",
    "print(res)\n",
    "EV.print_stat(syss=['pancreas_clusters_random_bin']) # for latex table"
   ]
  },
  {
   "cell_type": "code",
   "execution_count": null,
   "metadata": {},
   "outputs": [],
   "source": [
    "# average accuracies across repeats\n",
    "res = EV.get_stats(syss=selected_syss, stats=['Accu'])\n",
    "print(res)\n",
    "EV.print_stat(syss=selected_syss) # for latex table"
   ]
  },
  {
   "cell_type": "code",
   "execution_count": null,
   "metadata": {},
   "outputs": [],
   "source": [
    "# accuracy, sensitivity and specificity across repeats\n",
    "res = EV.get_stats(syss=selected_syss, stats=['Accu', 'Sens', 'Spec'])\n",
    "print(res)"
   ]
  },
  {
   "cell_type": "code",
   "execution_count": null,
   "metadata": {},
   "outputs": [],
   "source": [
    "# # print noise evaluation\n",
    "# exp = 'p2v_linear'\n",
    "# exp = 'vfpoly_linear'\n",
    "exp = 'params_linear'\n",
    "df = EV.gather_stats_noised(exp=exp, desc='noise')\n",
    "df\n",
    "# df = EV.gather_stats_noised(exp=exp, desc='masked')"
   ]
  },
  {
   "cell_type": "code",
   "execution_count": null,
   "metadata": {},
   "outputs": [],
   "source": []
  },
  {
   "cell_type": "code",
   "execution_count": null,
   "metadata": {},
   "outputs": [],
   "source": [
    "# # for subhopf, get confidence? on each regime\n",
    "# sys = 'subhopf'\n",
    "# sysp = EV.sysps[sys]\n",
    "# vals = np.zeros((len(sysp),2))\n",
    "# i = 0\n",
    "# for exp_desc, outputs in EV.exp_outputs.items():\n",
    "#     if sys not in outputs: \n",
    "#         # print('Missing')\n",
    "#         continue\n",
    "#     i += 1\n",
    "#     vals += outputs[sys] # (outputs[sys] > 0)\n",
    "# vals /= i"
   ]
  },
  {
   "cell_type": "code",
   "execution_count": null,
   "metadata": {},
   "outputs": [],
   "source": [
    "# print(vals[sysp[:,0] < -0.25, 0].mean())\n",
    "# print(vals[(sysp[:,0] > -0.25) & (sysp[:,0] < 0), 0].mean())\n",
    "# print(vals[(sysp[:,0] > 0), 0].mean())\n",
    "\n",
    "# print(vals[sysp[:,0] < -0.25, 1].mean())\n",
    "# print(vals[(sysp[:,0] > -0.25) & (sysp[:,0] < 0), 1].mean())\n",
    "# print(vals[(sysp[:,0] > 0), 1].mean())"
   ]
  },
  {
   "cell_type": "code",
   "execution_count": null,
   "metadata": {},
   "outputs": [],
   "source": [
    "# plotting confidence and resulting bifurcation curves\n",
    "sselected_syss = [s for s in selected_syss if s != 'vanderpol'] # exclude vanderpol because of single parameter\n",
    "ref_sys = 'simple_oscillator_nsfcl'\n",
    "# EV.plot_bifurcation(exp, syss=['subhopf'], verbose=True)\n",
    "exp = 'p2v_linear'\n",
    "exp = 'vfpoly_linear'\n",
    "exp = 'params_linear'\n",
    "# exp = 'simple_oscillator_nsfcl_angle_atten_AttentionwFC'\n",
    "\n",
    "EV.plot_bifurcation(exp, syss=sselected_syss, verbose=True)"
   ]
  },
  {
   "cell_type": "code",
   "execution_count": null,
   "metadata": {},
   "outputs": [],
   "source": [
    "# sys = 'suphopf'\n",
    "from sklearn.feature_selection import mutual_info_regression\n",
    "from twa.utils import plot_tradeoff\n",
    "from scipy.stats import spearmanr\n",
    "\n",
    "sselected_syss = [s for s in selected_syss if s != 'vanderpol'] # exclude vanderpol because of single parameter\n",
    "ncols = len(sselected_syss)\n",
    "fig, ax = plt.subplots(1,ncols,figsize=(5*ncols,7), sharey=True, constrained_layout=True)\n",
    "bins = 10\n",
    "xlabel=''\n",
    "ylabel=''\n",
    "for isys, sys in enumerate(sselected_syss):\n",
    "    sysp = EV.sysps[sys]\n",
    "    bifurp = EV.bifurps[sys]\n",
    "    fit_value = np.mean([np.sign(EV.exp_outputs[exp_rep][sys]) for exp_rep in EV.exp_repeats[exp] if sys in EV.exp_outputs[exp_rep].keys()], axis=0)\n",
    "    df_cyc = pd.DataFrame({ 'dist': np.abs(bifurp[bifurp > 0]), 'confidence': np.abs(fit_value[bifurp > 0,0])})\n",
    "    df_pt = pd.DataFrame({ 'dist': np.abs(bifurp[bifurp < 0]), 'confidence': np.abs(fit_value[bifurp < 0,0])})\n",
    "    \n",
    "    # corr_pt = mutual_info_regression(df_pt[['dist']], df_pt[['confidence']])[0]\n",
    "    # corr_cyc = mutual_info_regression(df_cyc[['dist']], df_cyc[['confidence']])[0]\n",
    "    \n",
    "    # corr_pt = np.corrcoef(df_pt['dist'], df_pt['confidence'])[0,1]\n",
    "    # corr_cyc = np.corrcoef(df_cyc['dist'], df_cyc['confidence'])[0,1]\n",
    "    \n",
    "    corr_pt = spearmanr(df_pt['dist'], df_pt['confidence']).correlation\n",
    "    corr_cyc = spearmanr(df_cyc['dist'], df_cyc['confidence']).correlation\n",
    "\n",
    "    print(sys, corr_pt, corr_cyc)\n",
    "    tit = f'{sys_descs[sys]}\\n({corr_pt:.2f}, {corr_cyc:.2f})'\n",
    "    # tit = f'({corr_pt:.2f}, {corr_cyc:.2f})'\n",
    "\n",
    "    \n",
    "    df_cyc['dist_bin'] = pd.cut(df_cyc['dist'], bins=bins)\n",
    "    df_cyc['dist_mid'] = df_cyc['dist_bin'].apply(lambda x: x.mid).astype(float)\n",
    "    plot_tradeoff(df_cyc, xcol='dist_mid', ycol='confidence', groupby='dist_mid', plot_std=1, color_mean='r', color_std='r', xlabel=xlabel, ylabel=ylabel, ax=ax[isys])\n",
    "\n",
    "    df_pt['dist_bin'] = pd.cut(df_pt['dist'], bins=bins)\n",
    "    df_pt['dist_mid'] = df_pt['dist_bin'].apply(lambda x: x.mid).astype(float)\n",
    "    plot_tradeoff(df_pt, xcol='dist_mid', ycol='confidence', groupby='dist_mid', plot_std=1, color_mean='b', color_std='b', xlabel=xlabel, ylabel=ylabel, ax=ax[isys], title=tit)\n",
    "\n",
    "    # ax[isys].set_title(tit)\n",
    "    # ax[isys].scatter(df_cyc['dist'], df_cyc['confidence'], c='r', alpha=0.5)\n",
    "    # ax[isys].scatter(df_pt['dist'], df_pt['confidence'], c='b', alpha=0.5)\n",
    "\n",
    "ax[0].set_ylabel('Confidence', fontsize=30)\n",
    "fig.supxlabel('Distance from bifurcation', fontsize=30)\n",
    "# fig.supylabel('Confidence', fontsize=25)"
   ]
  },
  {
   "cell_type": "code",
   "execution_count": null,
   "metadata": {},
   "outputs": [],
   "source": []
  },
  {
   "cell_type": "code",
   "execution_count": null,
   "metadata": {},
   "outputs": [],
   "source": [
    "bins = 20\n"
   ]
  },
  {
   "cell_type": "code",
   "execution_count": null,
   "metadata": {},
   "outputs": [],
   "source": []
  },
  {
   "cell_type": "code",
   "execution_count": null,
   "metadata": {},
   "outputs": [],
   "source": [
    "\n"
   ]
  },
  {
   "cell_type": "code",
   "execution_count": null,
   "metadata": {},
   "outputs": [],
   "source": [
    "import seaborn as sns\n",
    "# plt.scatter(sysp[:,0], fit_value[:,1])\n",
    "df = pd.DataFrame({r'$\\mu$': sysp[:,0], 'probability predicted cycle': fit_value[:,1]})\n",
    "df['topo'] = 'Point'\n",
    "df.loc[df[r'$\\mu$'] > 0, 'topo'] = 'Periodic'\n",
    "sns.boxplot(\n",
    "    df, x='topo', y='probability predicted cycle', palette=\"vlag\", order=['Point', 'Periodic', ], # hue=\"method\",\n",
    "    #whis=[0, 100], width=.6, palette=\"vlag\"\n",
    ")"
   ]
  },
  {
   "cell_type": "code",
   "execution_count": null,
   "metadata": {},
   "outputs": [],
   "source": []
  },
  {
   "cell_type": "code",
   "execution_count": null,
   "metadata": {},
   "outputs": [],
   "source": [
    "\n",
    "fit_value = {}\n",
    "for sys in selected_syss:\n",
    "    fit_value[sys] = np.mean([np.sign(EV.exp_outputs[exp_rep][sys]) for exp_rep in EV.exp_repeats[exp] if sys in EV.exp_outputs[exp_rep].keys()], axis=0)\n",
    "    \n",
    "        # fit_value = {sys: np.mean([np.sign(EV.exp_outputs[exp_rep][sys]) , axis=0) for sys in syss if sys in EV.exp_outputs[exp_rep].keys()}\n",
    "        # fit_value = {sys: np.mean([np.sign(EV.exp_outputs[exp_rep][sys]) for exp_rep in EV.exp_repeats[exp]], axis=0) for sys in syss}\n",
    "\n",
    "cyc_attr_idx = 1\n",
    "for isys, sys in enumerate(selected_syss):\n",
    "    sys = 'suphopf'\n",
    "    bifurp = EV.bifurps[sys]\n",
    "    y_cyc = fit_value[sys][:, cyc_attr_idx]\n",
    "    corr = np.corrcoef(np.abs(bifurp), np.abs(y_cyc))[0,1]\n",
    "    print(sys, corr)\n",
    "    break\n"
   ]
  },
  {
   "cell_type": "code",
   "execution_count": null,
   "metadata": {},
   "outputs": [],
   "source": [
    "# plotting confidence and resulting bifurcation curves\n",
    "\n",
    "EV.plot_bifurcation(exp, syss=['repressilator'])"
   ]
  },
  {
   "cell_type": "code",
   "execution_count": null,
   "metadata": {},
   "outputs": [],
   "source": [
    "# plot pancreas predicted cycle scores\n",
    "EV.plot_pancreas(exp)"
   ]
  },
  {
   "cell_type": "code",
   "execution_count": null,
   "metadata": {},
   "outputs": [],
   "source": [
    "exp_descs2 = {}\n",
    "exp_descs2['simple_oscillator_nsfcl_angle_atten_AttentionwFC'] = 'Our Model'\n",
    "exp_descs2['simple_oscillator_nsfcl_angle_noatten_AttentionwFC'] = 'No Attention'\n",
    "exp_descs2['simple_oscillator_nsfcl_vector_atten_AttentionwFC'] = 'From Vectors'\n",
    "exp_descs2['simple_oscillator_noaug_angle_atten_AttentionwFC'] = 'No Augmentation'\n",
    "\n",
    "exp_descs2['simple_oscillator_noaug_vector_noatten_AttentionwFC'] = 'CNN-baseline'\n",
    "\n",
    "\n",
    "EV2 = Evaluator(exp_descs=exp_descs2, sys_descs=sys_descs, ode_syss=ode_syss, outdir=outdir)\n"
   ]
  },
  {
   "cell_type": "code",
   "execution_count": null,
   "metadata": {},
   "outputs": [],
   "source": [
    "res = EV2.get_stats(syss=selected_syss, stats=['Accu'])\n",
    "print(res)\n",
    "EV2.print_stat(syss=selected_syss) # for latex table"
   ]
  },
  {
   "cell_type": "code",
   "execution_count": null,
   "metadata": {},
   "outputs": [],
   "source": [
    "# EV2.plot_output_distribution()"
   ]
  }
 ],
 "metadata": {
  "kernelspec": {
   "display_name": "p2vd",
   "language": "python",
   "name": "python3"
  },
  "language_info": {
   "codemirror_mode": {
    "name": "ipython",
    "version": 3
   },
   "file_extension": ".py",
   "mimetype": "text/x-python",
   "name": "python",
   "nbconvert_exporter": "python",
   "pygments_lexer": "ipython3",
   "version": "3.10.8"
  },
  "orig_nbformat": 4
 },
 "nbformat": 4,
 "nbformat_minor": 2
}
